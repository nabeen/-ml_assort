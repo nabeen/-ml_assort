{
 "cells": [
  {
   "cell_type": "code",
   "execution_count": 1,
   "metadata": {},
   "outputs": [
    {
     "name": "stdout",
     "output_type": "stream",
     "text": [
      "Requirement already satisfied: gensim in /opt/conda/lib/python3.7/site-packages (3.8.1)\n",
      "Requirement already satisfied: scipy>=0.18.1 in /opt/conda/lib/python3.7/site-packages (from gensim) (1.3.2)\n",
      "Requirement already satisfied: six>=1.5.0 in /opt/conda/lib/python3.7/site-packages (from gensim) (1.13.0)\n",
      "Requirement already satisfied: numpy>=1.11.3 in /opt/conda/lib/python3.7/site-packages (from gensim) (1.17.3)\n",
      "Requirement already satisfied: smart-open>=1.8.1 in /opt/conda/lib/python3.7/site-packages (from gensim) (1.9.0)\n",
      "Requirement already satisfied: boto3 in /opt/conda/lib/python3.7/site-packages (from smart-open>=1.8.1->gensim) (1.10.49)\n",
      "Requirement already satisfied: boto>=2.32 in /opt/conda/lib/python3.7/site-packages (from smart-open>=1.8.1->gensim) (2.49.0)\n",
      "Requirement already satisfied: requests in /opt/conda/lib/python3.7/site-packages (from smart-open>=1.8.1->gensim) (2.22.0)\n",
      "Requirement already satisfied: s3transfer<0.3.0,>=0.2.0 in /opt/conda/lib/python3.7/site-packages (from boto3->smart-open>=1.8.1->gensim) (0.2.1)\n",
      "Requirement already satisfied: botocore<1.14.0,>=1.13.49 in /opt/conda/lib/python3.7/site-packages (from boto3->smart-open>=1.8.1->gensim) (1.13.49)\n",
      "Requirement already satisfied: jmespath<1.0.0,>=0.7.1 in /opt/conda/lib/python3.7/site-packages (from boto3->smart-open>=1.8.1->gensim) (0.9.4)\n",
      "Requirement already satisfied: certifi>=2017.4.17 in /opt/conda/lib/python3.7/site-packages (from requests->smart-open>=1.8.1->gensim) (2019.11.28)\n",
      "Requirement already satisfied: chardet<3.1.0,>=3.0.2 in /opt/conda/lib/python3.7/site-packages (from requests->smart-open>=1.8.1->gensim) (3.0.4)\n",
      "Requirement already satisfied: idna<2.9,>=2.5 in /opt/conda/lib/python3.7/site-packages (from requests->smart-open>=1.8.1->gensim) (2.8)\n",
      "Requirement already satisfied: urllib3!=1.25.0,!=1.25.1,<1.26,>=1.21.1 in /opt/conda/lib/python3.7/site-packages (from requests->smart-open>=1.8.1->gensim) (1.25.7)\n",
      "Requirement already satisfied: docutils<0.16,>=0.10 in /opt/conda/lib/python3.7/site-packages (from botocore<1.14.0,>=1.13.49->boto3->smart-open>=1.8.1->gensim) (0.15.2)\n",
      "Requirement already satisfied: python-dateutil<3.0.0,>=2.1; python_version >= \"2.7\" in /opt/conda/lib/python3.7/site-packages (from botocore<1.14.0,>=1.13.49->boto3->smart-open>=1.8.1->gensim) (2.8.1)\n"
     ]
    }
   ],
   "source": [
    "!pip install gensim"
   ]
  },
  {
   "cell_type": "code",
   "execution_count": 2,
   "metadata": {},
   "outputs": [],
   "source": [
    "# モジュール読み込み\n",
    "import csv\n",
    "import pickle\n",
    "\n",
    "import gensim\n",
    "from gensim import models\n",
    "from sklearn.linear_model import LogisticRegression\n",
    "from sklearn.model_selection import train_test_split\n",
    "from sklearn.metrics import classification_report\n",
    "from sklearn.metrics import confusion_matrix"
   ]
  },
  {
   "cell_type": "code",
   "execution_count": 3,
   "metadata": {},
   "outputs": [],
   "source": [
    "dataset_file_name = './dataset/corpus.csv'\n",
    "model_file_name = 'logistic.pkl'"
   ]
  },
  {
   "cell_type": "code",
   "execution_count": 4,
   "metadata": {},
   "outputs": [
    {
     "name": "stdout",
     "output_type": "stream",
     "text": [
      "sum_words:  102532\n"
     ]
    }
   ],
   "source": [
    "# csvファイルを扱いやすいフォーマットに変形\n",
    "\n",
    "with open(dataset_file_name, 'r') as f:\n",
    "    data = list(csv.reader(f))\n",
    "\n",
    "texts, label_ids = [], []\n",
    "label2id = {}\n",
    "idx_label, idx_sentence = 0, 1\n",
    "sum_words = []\n",
    "\n",
    "for counter, row in enumerate(data):\n",
    "    if counter == 0:\n",
    "        continue\n",
    "    label = row[idx_label]\n",
    "    if label not in label2id:\n",
    "        label2id[label] = len(label2id)\n",
    "    label_ids.append(label2id[label])\n",
    "    word_list = row[idx_sentence].split(' ')\n",
    "    texts.append(word_list)\n",
    "    \n",
    "    for line in word_list:\n",
    "        for word in line:\n",
    "            sum_words.append(word)\n",
    "\n",
    "print('sum_words: ', len(sum_words))\n",
    "id2label = {v: k for k, v in label2id.items()}"
   ]
  },
  {
   "cell_type": "code",
   "execution_count": 5,
   "metadata": {},
   "outputs": [],
   "source": [
    "#　テキストとラベルのデータをtrain, testに分割します\n",
    "X_train_texts, X_test_texts, y_train, y_test = train_test_split(texts, label_ids, test_size=0.2, random_state=42)"
   ]
  },
  {
   "cell_type": "code",
   "execution_count": 6,
   "metadata": {},
   "outputs": [],
   "source": [
    "# trainのテキストデータから、tfidfで重み付けされた単語文書行列を作成します\n",
    "\n",
    "# テキストデータから辞書を作成します\n",
    "dictionary = gensim.corpora.Dictionary(X_train_texts)\n",
    "# 辞書を用いてBoW形式に文章を行列化します\n",
    "corpus = [dictionary.doc2bow(text) for text in X_train_texts]\n",
    "\n",
    "# BoW形式で作成したcorpusをtfidfを用いて重み付けします\n",
    "tfidf_model = models.TfidfModel(corpus)\n",
    "tfidf_corpus = tfidf_model[corpus]\n",
    "\n",
    "num_words = len(dictionary)\n",
    "X_train_tfidf = gensim.matutils.corpus2dense(tfidf_corpus, num_terms=num_words).T"
   ]
  },
  {
   "cell_type": "code",
   "execution_count": 7,
   "metadata": {},
   "outputs": [],
   "source": [
    "# testのテキストデータから、tfidfで重み付けされた単語文書行列を作成します\n",
    "\n",
    "# 辞書を用いてBoW形式に文章を行列化します\n",
    "corpus = [dictionary.doc2bow(text) for text in X_test_texts]\n",
    "# BoW形式で作成したcorpusをtfidfを用いて重み付けします\n",
    "tfidf_corpus = tfidf_model[corpus]\n",
    "\n",
    "num_words = len(dictionary)\n",
    "X_test_tfidf = gensim.matutils.corpus2dense(tfidf_corpus, num_terms=num_words).T"
   ]
  },
  {
   "cell_type": "code",
   "execution_count": 8,
   "metadata": {},
   "outputs": [],
   "source": [
    "# trainデータを用いて分類器を構築します\n",
    "clf = LogisticRegression(solver='lbfgs')"
   ]
  },
  {
   "cell_type": "code",
   "execution_count": 9,
   "metadata": {},
   "outputs": [
    {
     "name": "stderr",
     "output_type": "stream",
     "text": [
      "/opt/conda/lib/python3.7/site-packages/sklearn/linear_model/logistic.py:469: FutureWarning: Default multi_class will be changed to 'auto' in 0.22. Specify the multi_class option to silence this warning.\n",
      "  \"this warning.\", FutureWarning)\n"
     ]
    },
    {
     "data": {
      "text/plain": [
       "LogisticRegression(C=1.0, class_weight=None, dual=False, fit_intercept=True,\n",
       "                   intercept_scaling=1, l1_ratio=None, max_iter=100,\n",
       "                   multi_class='warn', n_jobs=None, penalty='l2',\n",
       "                   random_state=None, solver='lbfgs', tol=0.0001, verbose=0,\n",
       "                   warm_start=False)"
      ]
     },
     "execution_count": 9,
     "metadata": {},
     "output_type": "execute_result"
    }
   ],
   "source": [
    "clf.fit(X_train_tfidf, y_train)"
   ]
  },
  {
   "cell_type": "code",
   "execution_count": 10,
   "metadata": {},
   "outputs": [
    {
     "name": "stdout",
     "output_type": "stream",
     "text": [
      "              precision    recall  f1-score   support\n",
      "\n",
      "       dazai       0.72      0.95      0.82       732\n",
      "        mori       0.94      0.66      0.78       492\n",
      "   akutagawa       0.87      0.72      0.79       551\n",
      "\n",
      "    accuracy                           0.80      1775\n",
      "   macro avg       0.84      0.78      0.79      1775\n",
      "weighted avg       0.83      0.80      0.80      1775\n",
      "\n",
      "[[698   8  26]\n",
      " [132 327  33]\n",
      " [143  13 395]]\n"
     ]
    }
   ],
   "source": [
    "# testデータを用いて分類器の精度を評価します\n",
    "y_pred = clf.predict(X_test_tfidf)\n",
    "target_names = list(id2label.values())\n",
    "\n",
    "print(classification_report(y_test, y_pred, target_names=target_names))\n",
    "print(confusion_matrix(y_test, y_pred))"
   ]
  },
  {
   "cell_type": "code",
   "execution_count": null,
   "metadata": {},
   "outputs": [],
   "source": []
  }
 ],
 "metadata": {
  "kernelspec": {
   "display_name": "Python 3",
   "language": "python",
   "name": "python3"
  },
  "language_info": {
   "codemirror_mode": {
    "name": "ipython",
    "version": 3
   },
   "file_extension": ".py",
   "mimetype": "text/x-python",
   "name": "python",
   "nbconvert_exporter": "python",
   "pygments_lexer": "ipython3",
   "version": "3.7.3"
  }
 },
 "nbformat": 4,
 "nbformat_minor": 4
}
